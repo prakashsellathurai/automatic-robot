{
  "nbformat": 4,
  "nbformat_minor": 0,
  "metadata": {
    "colab": {
      "name": "Gym_Envs_3_spinup_ExperimentGrid.ipynb",
      "provenance": [],
      "collapsed_sections": []
    },
    "kernelspec": {
      "name": "python3",
      "display_name": "Python 3"
    }
  },
  "cells": [
    {
      "cell_type": "code",
      "metadata": {
        "id": "acRAoifbwiMk",
        "outputId": "923eb90a-89aa-40ba-c77c-aa96746d3965",
        "colab": {
          "base_uri": "https://localhost:8080/",
          "height": 802
        }
      },
      "source": [
        "!pip install gym\n",
        "!apt-get install python-opengl -y\n",
        "!apt install xvfb -y\n",
        "\n",
        "# Special gym environment\n",
        "!pip install gym[atari]\n",
        "\n",
        "# For rendering environment, you can use pyvirtualdisplay.\n",
        "!pip install pyvirtualdisplay\n",
        "!pip install piglet\n",
        "\n",
        "# To activate virtual display \n",
        "# need to run a script once for training an agent as follows\n",
        "from pyvirtualdisplay import Display\n",
        "display = Display(visible=0, size=(1400, 900))\n",
        "display.start()\n",
        "\n",
        "# This code creates a virtual display to draw game images on. \n",
        "# If you are running locally, just ignore it\n",
        "import os\n",
        "if type(os.environ.get(\"DISPLAY\")) is not str or len(os.environ.get(\"DISPLAY\"))==0:\n",
        "    !bash ../xvfb start\n",
        "    %env DISPLAY=:1\n",
        "\n",
        "#\n",
        "# Import libraries\n",
        "#\n",
        "import gym\n",
        "from gym import logger as gymlogger\n",
        "from gym.wrappers import Monitor\n",
        "gymlogger.set_level(40) # error only\n",
        "import tensorflow as tf\n",
        "import numpy as np\n",
        "import random\n",
        "import matplotlib\n",
        "import matplotlib.pyplot as plt\n",
        "%matplotlib inline\n",
        "import math\n",
        "import glob\n",
        "import io\n",
        "import base64\n",
        "from IPython.display import HTML\n",
        "\n",
        "from IPython import display as ipythondisplay\n",
        "\n",
        "\"\"\"\n",
        "Utility functions to enable video recording of gym environment and displaying it\n",
        "To enable video, just do \"env = wrap_env(env)\"\"\n",
        "\"\"\"\n",
        "\n",
        "def show_video():\n",
        "  mp4list = glob.glob('video/*.mp4')\n",
        "  if len(mp4list) > 0:\n",
        "    mp4 = mp4list[0]\n",
        "    video = io.open(mp4, 'r+b').read()\n",
        "    encoded = base64.b64encode(video)\n",
        "    ipythondisplay.display(HTML(data='''<video alt=\"test\" autoplay \n",
        "                loop controls style=\"height: 400px;\">\n",
        "                <source src=\"data:video/mp4;base64,{0}\" type=\"video/mp4\" />\n",
        "             </video>'''.format(encoded.decode('ascii'))))\n",
        "  else: \n",
        "    print(\"Could not find video\")\n",
        "    \n",
        "\n",
        "def wrap_env(env):\n",
        "  env = Monitor(env, './video', force=True)\n",
        "  return env"
      ],
      "execution_count": null,
      "outputs": [
        {
          "output_type": "stream",
          "text": [
            "Requirement already satisfied: gym in /usr/local/lib/python3.6/dist-packages (0.10.11)\n",
            "Requirement already satisfied: scipy in /usr/local/lib/python3.6/dist-packages (from gym) (1.1.0)\n",
            "Requirement already satisfied: numpy>=1.10.4 in /usr/local/lib/python3.6/dist-packages (from gym) (1.14.6)\n",
            "Requirement already satisfied: requests>=2.0 in /usr/local/lib/python3.6/dist-packages (from gym) (2.18.4)\n",
            "Requirement already satisfied: six in /usr/local/lib/python3.6/dist-packages (from gym) (1.11.0)\n",
            "Requirement already satisfied: pyglet>=1.2.0 in /usr/local/lib/python3.6/dist-packages (from gym) (1.3.2)\n",
            "Requirement already satisfied: certifi>=2017.4.17 in /usr/local/lib/python3.6/dist-packages (from requests>=2.0->gym) (2018.11.29)\n",
            "Requirement already satisfied: urllib3<1.23,>=1.21.1 in /usr/local/lib/python3.6/dist-packages (from requests>=2.0->gym) (1.22)\n",
            "Requirement already satisfied: idna<2.7,>=2.5 in /usr/local/lib/python3.6/dist-packages (from requests>=2.0->gym) (2.6)\n",
            "Requirement already satisfied: chardet<3.1.0,>=3.0.2 in /usr/local/lib/python3.6/dist-packages (from requests>=2.0->gym) (3.0.4)\n",
            "Requirement already satisfied: future in /usr/local/lib/python3.6/dist-packages (from pyglet>=1.2.0->gym) (0.16.0)\n",
            "Reading package lists... Done\n",
            "Building dependency tree       \n",
            "Reading state information... Done\n",
            "python-opengl is already the newest version (3.1.0+dfsg-1).\n",
            "0 upgraded, 0 newly installed, 0 to remove and 10 not upgraded.\n",
            "Reading package lists... Done\n",
            "Building dependency tree       \n",
            "Reading state information... Done\n",
            "xvfb is already the newest version (2:1.19.6-1ubuntu4.2).\n",
            "0 upgraded, 0 newly installed, 0 to remove and 10 not upgraded.\n",
            "Requirement already satisfied: gym[atari] in /usr/local/lib/python3.6/dist-packages (0.10.11)\n",
            "Requirement already satisfied: scipy in /usr/local/lib/python3.6/dist-packages (from gym[atari]) (1.1.0)\n",
            "Requirement already satisfied: numpy>=1.10.4 in /usr/local/lib/python3.6/dist-packages (from gym[atari]) (1.14.6)\n",
            "Requirement already satisfied: requests>=2.0 in /usr/local/lib/python3.6/dist-packages (from gym[atari]) (2.18.4)\n",
            "Requirement already satisfied: six in /usr/local/lib/python3.6/dist-packages (from gym[atari]) (1.11.0)\n",
            "Requirement already satisfied: pyglet>=1.2.0 in /usr/local/lib/python3.6/dist-packages (from gym[atari]) (1.3.2)\n",
            "Requirement already satisfied: atari_py>=0.1.4 in /usr/local/lib/python3.6/dist-packages (from gym[atari]) (0.1.7)\n",
            "Requirement already satisfied: Pillow in /usr/local/lib/python3.6/dist-packages (from gym[atari]) (4.1.1)\n",
            "Requirement already satisfied: PyOpenGL in /usr/local/lib/python3.6/dist-packages (from gym[atari]) (3.1.0)\n",
            "Requirement already satisfied: idna<2.7,>=2.5 in /usr/local/lib/python3.6/dist-packages (from requests>=2.0->gym[atari]) (2.6)\n",
            "Requirement already satisfied: chardet<3.1.0,>=3.0.2 in /usr/local/lib/python3.6/dist-packages (from requests>=2.0->gym[atari]) (3.0.4)\n",
            "Requirement already satisfied: urllib3<1.23,>=1.21.1 in /usr/local/lib/python3.6/dist-packages (from requests>=2.0->gym[atari]) (1.22)\n",
            "Requirement already satisfied: certifi>=2017.4.17 in /usr/local/lib/python3.6/dist-packages (from requests>=2.0->gym[atari]) (2018.11.29)\n",
            "Requirement already satisfied: future in /usr/local/lib/python3.6/dist-packages (from pyglet>=1.2.0->gym[atari]) (0.16.0)\n",
            "Requirement already satisfied: olefile in /usr/local/lib/python3.6/dist-packages (from Pillow->gym[atari]) (0.46)\n",
            "Requirement already satisfied: pyvirtualdisplay in /usr/local/lib/python3.6/dist-packages (0.2.1)\n",
            "Requirement already satisfied: EasyProcess in /usr/local/lib/python3.6/dist-packages (from pyvirtualdisplay) (0.2.5)\n",
            "Requirement already satisfied: piglet in /usr/local/lib/python3.6/dist-packages (0.4.4)\n",
            "Requirement already satisfied: Parsley in /usr/local/lib/python3.6/dist-packages (from piglet) (1.3)\n",
            "Requirement already satisfied: attrs in /usr/local/lib/python3.6/dist-packages (from piglet) (19.1.0)\n",
            "Requirement already satisfied: markupsafe in /usr/local/lib/python3.6/dist-packages (from piglet) (1.1.1)\n",
            "Requirement already satisfied: astunparse in /usr/local/lib/python3.6/dist-packages (from piglet) (1.6.2)\n",
            "Requirement already satisfied: wheel<1.0,>=0.23.0 in /usr/local/lib/python3.6/dist-packages (from astunparse->piglet) (0.33.1)\n",
            "Requirement already satisfied: six<2.0,>=1.6.1 in /usr/local/lib/python3.6/dist-packages (from astunparse->piglet) (1.11.0)\n"
          ],
          "name": "stdout"
        }
      ]
    },
    {
      "cell_type": "code",
      "metadata": {
        "id": "cS6F5fQ62X2O"
      },
      "source": [
        "# Install spinningup on CoLab\n",
        "!git clone https://github.com/openai/spinningup.git\n",
        "!cd spinningup\n",
        "#!pip install -e . # this will incur error: File \"setup.py\" not found. Directory cannot be installed in editable mode: /content\n",
        "!pip install -e spinningup"
      ],
      "execution_count": null,
      "outputs": []
    },
    {
      "cell_type": "markdown",
      "metadata": {
        "id": "3-ATQfrfYkM7"
      },
      "source": [
        "# OpenAI Gym\n",
        "\n",
        "OpenAI gym is a python library that wraps many classical decision problems including robot control, videogames and board games. We will use the environments it provides to test our algorithms on interesting decision problems ."
      ]
    },
    {
      "cell_type": "markdown",
      "metadata": {
        "id": "r6cj_6GDwr2-"
      },
      "source": [
        "## [Code Format]\n",
        "\n",
        "All implementations in Spinning Up adhere to a standard template. They are split into two files: \n",
        "- An algorithm file, which contains the core logic of the algorithm. \n",
        "  - A class definition for an experience buffer object (for storing information from agent-environment interactions).\n",
        "  - A single function which runs the algorithm. (core)\n",
        "    - Logger setup\n",
        "    - Random seed setting\n",
        "    - Environment inistantiation\n",
        "    - Making placehodlers from the computation graph\n",
        "    - Building the actor-critic computation graph via the actor_critic function passed to the algorithm function as an argument\n",
        "    - Instantiating the experience buffer\n",
        "    - Building the computation graph for loss functions and diagnostics specific to the algorithm\n",
        "    - Making training ops\n",
        "    - Making the TF Session and initiali\n",
        "    - Setting up model saving through the logger\n",
        "    - Defining functions needed for running the main loop of the algorithm (eg the core update function, get action function, and test agent function, depending on the algorithm)\n",
        "    - Running the main loop of the algorithm:\n",
        "      - Run the agent in the environment\n",
        "      - Periodically update the parameters of the agent according to the main equations of the algorithm\n",
        "      - Log key performance metrics and save agent\n",
        "  - Some support for directly running the algorithm in Gym environment from the common line. \n",
        "\n",
        "- A core file, which contains various utilities needed to run the algorithm.\n",
        "  - Functions related to making and managing placeholders\n",
        "  - Functions for building sections of computation graph relevant to the actor_critic method for a particular algorithm \n",
        "  - Any other useful functions\n",
        "  - Implementations for an MLP actor-critic compatible with the algorithm, where both the policy and the value function(s) are represented by simple MLPs\n"
      ]
    },
    {
      "cell_type": "markdown",
      "metadata": {
        "id": "RvFDvAsvH70n"
      },
      "source": [
        "## Example: LunarLander-v2\n",
        "\n",
        "Train PPO in spinup and show resulting policy in a video. "
      ]
    },
    {
      "cell_type": "markdown",
      "metadata": {
        "id": "P8qCS9zX1Wo5"
      },
      "source": [
        "### Train PPO in spinup"
      ]
    },
    {
      "cell_type": "code",
      "metadata": {
        "id": "h10GA8WQ1VOB"
      },
      "source": [
        "# load packages\n",
        "import gym\n",
        "from spinup import ppo\n",
        "import tensorflow as tf\n",
        "\n",
        "# after training, load policy and show results in video\n",
        "from spinup.utils.test_policy import load_policy, run_policy\n",
        "\n",
        "# train policy\n",
        "env_fn = lambda : gym.make('LunarLander-v2')\n",
        "\n",
        "ac_kwargs = dict(hidden_sizes=[64,64], activation=tf.nn.relu)\n",
        "\n",
        "logger_kwargs = dict(output_dir='path/to/output_dir', exp_name='experiment_name')\n",
        "\n",
        "\n"
      ],
      "execution_count": null,
      "outputs": []
    },
    {
      "cell_type": "code",
      "metadata": {
        "id": "fWB5d5I79yDG"
      },
      "source": [
        "ppo(env_fn=env_fn, ac_kwargs=ac_kwargs, steps_per_epoch=5000, epochs=250, logger_kwargs=logger_kwargs)"
      ],
      "execution_count": null,
      "outputs": []
    },
    {
      "cell_type": "code",
      "metadata": {
        "id": "RiA7D2yoA3Xu",
        "outputId": "a9508e30-6870-469b-a176-fe57fd13a8cb",
        "colab": {
          "base_uri": "https://localhost:8080/",
          "height": 761
        }
      },
      "source": [
        "# Show policy\n",
        "_, get_action = load_policy('path/to/output_dir')\n",
        "env2 = gym.make('LunarLander-v2')\n",
        "env3 = wrap_env(env2)\n",
        "run_policy(env3, get_action, max_ep_len=500, num_episodes=10)\n",
        "env3.close()\n",
        "show_video() "
      ],
      "execution_count": null,
      "outputs": [
        {
          "output_type": "stream",
          "text": [
            "INFO:tensorflow:Restoring parameters from path/to/output_dir/simple_save/variables/variables\n",
            "Using default action op.\n",
            "\u001b[32;1mLogging data to /tmp/experiments/1552146854/progress.txt\u001b[0m\n",
            "Episode 0 \t EpRet 285.614 \t EpLen 145\n",
            "Episode 1 \t EpRet 290.872 \t EpLen 210\n",
            "Episode 2 \t EpRet 286.897 \t EpLen 127\n",
            "Episode 3 \t EpRet 307.363 \t EpLen 224\n",
            "Episode 4 \t EpRet 287.512 \t EpLen 207\n",
            "Episode 5 \t EpRet 286.895 \t EpLen 195\n",
            "Episode 6 \t EpRet 291.545 \t EpLen 194\n",
            "Episode 7 \t EpRet 287.070 \t EpLen 205\n",
            "Episode 8 \t EpRet 278.756 \t EpLen 156\n",
            "Episode 9 \t EpRet 296.767 \t EpLen 227\n",
            "-------------------------------------\n",
            "|    AverageEpRet |             290 |\n",
            "|        StdEpRet |            7.28 |\n",
            "|        MaxEpRet |             307 |\n",
            "|        MinEpRet |             279 |\n",
            "|           EpLen |             189 |\n",
            "-------------------------------------\n"
          ],
          "name": "stdout"
        },
        {
          "output_type": "display_data",
          "data": {
            "text/html": [
              "<video alt=\"test\" autoplay \n",
              "                loop controls style=\"height: 400px;\">\n",
              "                <source src=\"data:video/mp4;base64,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\" type=\"video/mp4\" />\n",
              "             </video>"
            ],
            "text/plain": [
              "<IPython.core.display.HTML object>"
            ]
          },
          "metadata": {
            "tags": []
          }
        }
      ]
    }
  ]
}